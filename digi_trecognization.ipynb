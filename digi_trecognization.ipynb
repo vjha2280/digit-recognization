{
 "cells": [
  {
   "cell_type": "code",
   "execution_count": 66,
   "id": "35640c41",
   "metadata": {},
   "outputs": [],
   "source": [
    "import pandas as pd\n",
    "import numpy as np\n",
    "import keras\n",
    "from keras.datasets import mnist\n",
    "from keras.models import Sequential\n",
    "from keras.layers import Dense, Dropout, Flatten\n",
    "from keras.layers import Conv2D, MaxPooling2D\n",
    "from keras import backend as K\n",
    "from sklearn.model_selection import train_test_split\n",
    "from keras.utils import np_utils\n",
    "import matplotlib.pyplot as plt\n",
    "from skimage.transform import resize\n",
    "from tqdm import tqdm\n",
    "from skimage.io import imread\n",
    "from tensorflow.keras.callbacks import EarlyStopping\n",
    "from sklearn.metrics import confusion_matrix, precision_score, recall_score, f1_score"
   ]
  },
  {
   "cell_type": "code",
   "execution_count": 71,
   "id": "a2df205f",
   "metadata": {},
   "outputs": [],
   "source": [
    "train=pd.read_csv('C:/Projects/Digit-recognization/train/train.csv')\n",
    "train_path=\"C:/Projects/Digit-recognization/train/Images/train/\"\n",
    "test_path=\"C:/Projects/Digit-recognization/train/Images/test/\"\n",
    "test = pd.read_csv('C:/Projects/Digit-recognization/test.csv')"
   ]
  },
  {
   "cell_type": "code",
   "execution_count": 36,
   "id": "c09b4708",
   "metadata": {},
   "outputs": [
    {
     "name": "stderr",
     "output_type": "stream",
     "text": [
      "100%|███████████████████████████████████████████████████████████████████████████| 49000/49000 [05:41<00:00, 143.35it/s]\n"
     ]
    }
   ],
   "source": [
    "# loading training images\n",
    "train_img = []\n",
    "for img_name in tqdm(train['filename']):\n",
    "    # defining the image path\n",
    "    image_path = train_path + img_name\n",
    "    # reading the image\n",
    "    img = imread(image_path)\n",
    "    # normalizing the pixel values\n",
    "    img = img/255\n",
    "    # resizing the image to (28,28,1)\n",
    "    img = resize(img, output_shape=(28,28,1), mode='constant', anti_aliasing=True)\n",
    "    # converting the type of pixel to float 32\n",
    "    img = img.astype('float32')\n",
    "    # appending the image into the list\n",
    "    train_img.append(img)"
   ]
  },
  {
   "cell_type": "code",
   "execution_count": 72,
   "id": "40a45f2a",
   "metadata": {},
   "outputs": [
    {
     "name": "stderr",
     "output_type": "stream",
     "text": [
      "100%|███████████████████████████████████████████████████████████████████████████| 21000/21000 [03:15<00:00, 107.35it/s]\n"
     ]
    }
   ],
   "source": [
    "# loading test images\n",
    "test_img = []\n",
    "for img_name in tqdm(test['filename']):\n",
    "    # defining the image path\n",
    "    image_path = test_path + img_name\n",
    "    # reading the image\n",
    "    img = imread(image_path)\n",
    "    # normalizing the pixel values\n",
    "    img = img/255\n",
    "    # resizing the image to (28,28,1)\n",
    "    img = resize(img, output_shape=(28,28,1), mode='constant', anti_aliasing=True)\n",
    "    # converting the type of pixel to float 32\n",
    "    img = img.astype('float32')\n",
    "    # appending the image into the list\n",
    "    test_img.append(img)"
   ]
  },
  {
   "cell_type": "code",
   "execution_count": 73,
   "id": "67718685",
   "metadata": {},
   "outputs": [],
   "source": [
    "X = np.array(train_img)\n",
    "X_test_data = np.array(test_img)"
   ]
  },
  {
   "cell_type": "code",
   "execution_count": 49,
   "id": "02984a3b",
   "metadata": {},
   "outputs": [],
   "source": [
    "y_data = pd.read_csv('C:/Projects/Digit-recognization/train/train.csv')\n",
    "y_data = y_data.drop(['filename'],axis=1)\n",
    "y = y_data.to_numpy()"
   ]
  },
  {
   "cell_type": "code",
   "execution_count": 50,
   "id": "064ac07e",
   "metadata": {},
   "outputs": [],
   "source": [
    "X_train, X_test, y_train, y_test = train_test_split(X, y , test_size=0.20)\n",
    "X_train, X_val, y_train, y_val = train_test_split(X_train, y_train , test_size =.33)"
   ]
  },
  {
   "cell_type": "code",
   "execution_count": 51,
   "id": "62d5d69b",
   "metadata": {},
   "outputs": [
    {
     "name": "stdout",
     "output_type": "stream",
     "text": [
      "Shape before one-hot encoding:  (26264, 1)\n",
      "Shape after one-hot encoding:  (26264, 10)\n"
     ]
    }
   ],
   "source": [
    "n_classes = 10\n",
    "print(\"Shape before one-hot encoding: \", y_train.shape)\n",
    "Y_train = np_utils.to_categorical(y_train, n_classes)\n",
    "Y_test = np_utils.to_categorical(y_test, n_classes)\n",
    "Y_val = np_utils.to_categorical(y_val, n_classes)\n",
    "print(\"Shape after one-hot encoding: \", Y_train.shape)"
   ]
  },
  {
   "cell_type": "code",
   "execution_count": 61,
   "id": "1a05123c",
   "metadata": {},
   "outputs": [
    {
     "name": "stdout",
     "output_type": "stream",
     "text": [
      "Epoch 1/20\n",
      "132/132 [==============================] - 42s 310ms/step - loss: 0.8129 - accuracy: 0.7540 - val_loss: 0.1944 - val_accuracy: 0.9519\n",
      "Epoch 2/20\n",
      "132/132 [==============================] - 41s 313ms/step - loss: 0.1270 - accuracy: 0.9619 - val_loss: 0.1165 - val_accuracy: 0.9677\n",
      "Epoch 3/20\n",
      "132/132 [==============================] - 41s 310ms/step - loss: 0.0698 - accuracy: 0.9784 - val_loss: 0.1114 - val_accuracy: 0.9693\n",
      "Epoch 4/20\n",
      "132/132 [==============================] - 41s 313ms/step - loss: 0.0494 - accuracy: 0.9836 - val_loss: 0.0786 - val_accuracy: 0.9750\n",
      "Epoch 5/20\n",
      "132/132 [==============================] - 40s 300ms/step - loss: 0.0366 - accuracy: 0.9881 - val_loss: 0.0735 - val_accuracy: 0.9778\n",
      "Epoch 6/20\n",
      "132/132 [==============================] - 41s 312ms/step - loss: 0.0264 - accuracy: 0.9915 - val_loss: 0.0690 - val_accuracy: 0.9794\n",
      "Epoch 7/20\n",
      "132/132 [==============================] - 42s 320ms/step - loss: 0.0238 - accuracy: 0.9926 - val_loss: 0.0672 - val_accuracy: 0.9794\n",
      "Epoch 8/20\n",
      "132/132 [==============================] - 43s 323ms/step - loss: 0.0145 - accuracy: 0.9953 - val_loss: 0.0666 - val_accuracy: 0.9805\n",
      "Epoch 9/20\n",
      "132/132 [==============================] - 42s 318ms/step - loss: 0.0105 - accuracy: 0.9967 - val_loss: 0.0674 - val_accuracy: 0.9811\n",
      "Epoch 10/20\n",
      "132/132 [==============================] - 43s 329ms/step - loss: 0.0093 - accuracy: 0.9967 - val_loss: 0.0688 - val_accuracy: 0.9808\n",
      "Epoch 11/20\n",
      "132/132 [==============================] - 46s 348ms/step - loss: 0.0111 - accuracy: 0.9966 - val_loss: 0.0976 - val_accuracy: 0.9726\n",
      "Epoch 12/20\n",
      "132/132 [==============================] - 45s 340ms/step - loss: 0.0125 - accuracy: 0.9960 - val_loss: 0.0663 - val_accuracy: 0.9808\n",
      "Epoch 13/20\n",
      "132/132 [==============================] - 44s 334ms/step - loss: 0.0040 - accuracy: 0.9992 - val_loss: 0.0743 - val_accuracy: 0.9812\n",
      "Epoch 14/20\n",
      "132/132 [==============================] - 44s 335ms/step - loss: 0.0048 - accuracy: 0.9988 - val_loss: 0.0821 - val_accuracy: 0.9796\n",
      "Epoch 15/20\n",
      "132/132 [==============================] - 45s 340ms/step - loss: 0.0061 - accuracy: 0.9980 - val_loss: 0.0723 - val_accuracy: 0.9826\n",
      "Epoch 16/20\n",
      "132/132 [==============================] - 46s 346ms/step - loss: 0.0072 - accuracy: 0.9976 - val_loss: 0.0689 - val_accuracy: 0.9824\n",
      "Epoch 17/20\n",
      "132/132 [==============================] - 44s 337ms/step - loss: 0.0033 - accuracy: 0.9990 - val_loss: 0.0698 - val_accuracy: 0.9821\n",
      "Epoch 18/20\n",
      "132/132 [==============================] - 46s 352ms/step - loss: 0.0035 - accuracy: 0.9990 - val_loss: 0.0692 - val_accuracy: 0.9831\n",
      "Epoch 19/20\n",
      "132/132 [==============================] - 44s 336ms/step - loss: 0.0021 - accuracy: 0.9996 - val_loss: 0.0757 - val_accuracy: 0.9839\n",
      "Epoch 20/20\n",
      "132/132 [==============================] - 44s 336ms/step - loss: 0.0031 - accuracy: 0.9988 - val_loss: 0.0795 - val_accuracy: 0.9813\n"
     ]
    }
   ],
   "source": [
    "model = Sequential()\n",
    "model.add(Conv2D(32, kernel_size=(3, 3), activation='relu',input_shape=[28, 28,1]))\n",
    "model.add(Conv2D(64, (3, 3), activation='relu'))\n",
    "model.add(Dropout(0.25))\n",
    "model.add(MaxPooling2D(pool_size=(2, 2)))\n",
    "model.add(Flatten())\n",
    "model.add(Dense(128, activation='relu'))\n",
    "model.add(Dense(n_classes, activation='softmax'))\n",
    "\n",
    "model.compile(loss='categorical_crossentropy', metrics=['accuracy'], optimizer='adam')\n",
    "es = EarlyStopping(monitor='val_loss', patience=20)\n",
    "\n",
    "history = model.fit(X_train, Y_train,\n",
    "          batch_size=200, epochs=20,\n",
    "          verbose=1,\n",
    "          validation_data=(X_val, Y_val),callbacks=[es])"
   ]
  },
  {
   "cell_type": "code",
   "execution_count": 54,
   "id": "b86f3bdd",
   "metadata": {},
   "outputs": [],
   "source": [
    "def model_loss_plot(history):\n",
    "    plt.plot(history.history['loss'])\n",
    "    plt.plot(history.history['val_loss'])\n",
    "    plt.title('model loss')\n",
    "    plt.ylabel('loss')\n",
    "    plt.xlabel('epoch')\n",
    "    plt.legend(['train', 'test'], loc='upper left')\n",
    "    plt.show()"
   ]
  },
  {
   "cell_type": "code",
   "execution_count": 55,
   "id": "96ee983e",
   "metadata": {},
   "outputs": [
    {
     "data": {
      "image/png": "[encoded data removed]",
      "text/plain": [
       "<Figure size 432x288 with 1 Axes>"
      ]
     },
     "metadata": {
      "needs_background": "light"
     },
     "output_type": "display_data"
    }
   ],
   "source": [
    "model_loss_plot(history)"
   ]
  },
  {
   "cell_type": "code",
   "execution_count": 56,
   "id": "431c72a4",
   "metadata": {},
   "outputs": [],
   "source": [
    "def model_accuracy_plot(history):\n",
    "    plt.plot(history.history['accuracy'])\n",
    "    plt.plot(history.history['val_accuracy'])\n",
    "    plt.title('model accuracy')\n",
    "    plt.ylabel('accuracy')\n",
    "    plt.xlabel('epoch')\n",
    "    plt.legend(['train', 'test'], loc='upper left')\n",
    "    plt.show()"
   ]
  },
  {
   "cell_type": "code",
   "execution_count": 57,
   "id": "35d92e7d",
   "metadata": {},
   "outputs": [
    {
     "data": {
      "image/png": "[encoded data removed]",
      "text/plain": [
       "<Figure size 432x288 with 1 Axes>"
      ]
     },
     "metadata": {
      "needs_background": "light"
     },
     "output_type": "display_data"
    }
   ],
   "source": [
    "model_accuracy_plot(history)"
   ]
  },
  {
   "cell_type": "code",
   "execution_count": 68,
   "id": "b57d0d5f",
   "metadata": {},
   "outputs": [],
   "source": [
    "def model_evaluate(model,X_train,y_train,X_test,y_test):\n",
    "    train_loss ,train_acc = model.evaluate(X_train, y_train, verbose=0)\n",
    "    test_loss, test_acc = model.evaluate(X_test, y_test, verbose=0)\n",
    "    print('Train: %.3f, Test: %.3f' % (train_acc, test_acc))"
   ]
  },
  {
   "cell_type": "code",
   "execution_count": 69,
   "id": "1f4d0f65",
   "metadata": {},
   "outputs": [
    {
     "name": "stdout",
     "output_type": "stream",
     "text": [
      "Train: 0.999, Test: 0.983\n"
     ]
    }
   ],
   "source": [
    "model_evaluate(model,X_train,Y_train,X_test,Y_test)"
   ]
  },
  {
   "cell_type": "code",
   "execution_count": 74,
   "id": "f3a40f83",
   "metadata": {},
   "outputs": [
    {
     "name": "stderr",
     "output_type": "stream",
     "text": [
      "C:\\Users\\VinitaMishra\\AppData\\Roaming\\Python\\Python38\\site-packages\\keras\\engine\\sequential.py:450: UserWarning: `model.predict_classes()` is deprecated and will be removed after 2021-01-01. Please use instead:* `np.argmax(model.predict(x), axis=-1)`,   if your model does multi-class classification   (e.g. if it uses a `softmax` last-layer activation).* `(model.predict(x) > 0.5).astype(\"int32\")`,   if your model does binary classification   (e.g. if it uses a `sigmoid` last-layer activation).\n",
      "  warnings.warn('`model.predict_classes()` is deprecated and '\n"
     ]
    }
   ],
   "source": [
    "yhat = model.predict_classes(X_test_data)"
   ]
  },
  {
   "cell_type": "code",
   "execution_count": 76,
   "id": "cf8580f9",
   "metadata": {},
   "outputs": [],
   "source": [
    "predict = pd.DataFrame(data=yhat ,columns=[\"label\"])"
   ]
  },
  {
   "cell_type": "code",
   "execution_count": 78,
   "id": "9d8205c0",
   "metadata": {},
   "outputs": [
    {
     "data": {
      "text/plain": [
       "(21000, 1)"
      ]
     },
     "execution_count": 78,
     "metadata": {},
     "output_type": "execute_result"
    }
   ],
   "source": [
    "predict.shape"
   ]
  },
  {
   "cell_type": "code",
   "execution_count": 79,
   "id": "65b357ef",
   "metadata": {},
   "outputs": [],
   "source": [
    "sub = test['filename']\n",
    "DT = pd.merge(sub , predict, on=None, left_index= True,\n",
    "    right_index=True)"
   ]
  },
  {
   "cell_type": "code",
   "execution_count": 80,
   "id": "ac130a6e",
   "metadata": {},
   "outputs": [],
   "source": [
    "DT.to_csv('submittion.csv',index = False)"
   ]
  },
  {
   "cell_type": "code",
   "execution_count": null,
   "id": "92aa0e91",
   "metadata": {},
   "outputs": [],
   "source": []
  }
 ],
 "metadata": {
  "kernelspec": {
   "display_name": "Python 3",
   "language": "python",
   "name": "python3"
  },
  "language_info": {
   "codemirror_mode": {
    "name": "ipython",
    "version": 3
   },
   "file_extension": ".py",
   "mimetype": "text/x-python",
   "name": "python",
   "nbconvert_exporter": "python",
   "pygments_lexer": "ipython3",
   "version": "3.8.8"
  }
 },
 "nbformat": 4,
 "nbformat_minor": 5
}
