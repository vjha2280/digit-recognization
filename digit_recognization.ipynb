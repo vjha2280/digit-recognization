{
 "cells": [
  {
   "cell_type": "code",
   "execution_count": 204,
   "id": "35640c41",
   "metadata": {},
   "outputs": [],
   "source": [
    "import pandas as pd\n",
    "import numpy as np\n",
    "import keras\n",
    "from keras.datasets import mnist\n",
    "from keras.models import Sequential\n",
    "from keras.layers import Dense, Dropout, Flatten\n",
    "from keras.layers import Conv2D, MaxPooling2D\n",
    "from keras import backend as K\n",
    "from sklearn.model_selection import train_test_split\n",
    "from keras.utils import np_utils\n",
    "import matplotlib.pyplot as plt\n",
    "from skimage.transform import resize\n",
    "from tqdm import tqdm\n",
    "from skimage.io import imread\n",
    "from tensorflow.keras.callbacks import EarlyStopping\n",
    "from sklearn.metrics import confusion_matrix, precision_score, recall_score, f1_score\n",
    "from keras.callbacks import ReduceLROnPlateau\n",
    "from tensorflow.keras import optimizers"
   ]
  },
  {
   "cell_type": "code",
   "execution_count": 4,
   "id": "a2df205f",
   "metadata": {},
   "outputs": [],
   "source": [
    "train=pd.read_csv('C:/Projects/Digit-recognization/train/train.csv')\n",
    "train_path=\"C:/Projects/Digit-recognization/train/Images/train/\"\n",
    "test_path=\"C:/Projects/Digit-recognization/train/Images/test/\"\n",
    "test = pd.read_csv('C:/Projects/Digit-recognization/test.csv')"
   ]
  },
  {
   "cell_type": "code",
   "execution_count": 3,
   "id": "c09b4708",
   "metadata": {},
   "outputs": [
    {
     "name": "stderr",
     "output_type": "stream",
     "text": [
      "100%|████████████████████████████████████████████████████████████████████████████| 49000/49000 [28:02<00:00, 29.12it/s]\n"
     ]
    }
   ],
   "source": [
    "# loading training images\n",
    "train_img = []\n",
    "for img_name in tqdm(train['filename']):\n",
    "    # defining the image path\n",
    "    image_path = train_path + img_name\n",
    "    # reading the image\n",
    "    img = imread(image_path)\n",
    "    # normalizing the pixel values\n",
    "    img = img/255\n",
    "    # resizing the image to (28,28,1)\n",
    "    img = resize(img, output_shape=(28,28,1), mode='constant', anti_aliasing=True)\n",
    "    # converting the type of pixel to float 32\n",
    "    img = img.astype('float32')\n",
    "    # appending the image into the list\n",
    "    train_img.append(img)"
   ]
  },
  {
   "cell_type": "code",
   "execution_count": 4,
   "id": "40a45f2a",
   "metadata": {},
   "outputs": [
    {
     "name": "stderr",
     "output_type": "stream",
     "text": [
      "100%|████████████████████████████████████████████████████████████████████████████| 21000/21000 [13:43<00:00, 25.51it/s]\n"
     ]
    }
   ],
   "source": [
    "# loading test images\n",
    "test_img = []\n",
    "for img_name in tqdm(test['filename']):\n",
    "    # defining the image path\n",
    "    image_path = test_path + img_name\n",
    "    # reading the image\n",
    "    img = imread(image_path)\n",
    "    # normalizing the pixel values\n",
    "    img = img/255\n",
    "    # resizing the image to (28,28,1)\n",
    "    img = resize(img, output_shape=(28,28,1), mode='constant', anti_aliasing=True)\n",
    "    # converting the type of pixel to float 32\n",
    "    img = img.astype('float32')\n",
    "    # appending the image into the list\n",
    "    test_img.append(img)"
   ]
  },
  {
   "cell_type": "code",
   "execution_count": 125,
   "id": "67718685",
   "metadata": {},
   "outputs": [
    {
     "ename": "NameError",
     "evalue": "name 'train_img' is not defined",
     "output_type": "error",
     "traceback": [
      "\u001b[1;31m---------------------------------------------------------------------------\u001b[0m",
      "\u001b[1;31mNameError\u001b[0m                                 Traceback (most recent call last)",
      "\u001b[1;32m<ipython-input-125-999e55179dae>\u001b[0m in \u001b[0;36m<module>\u001b[1;34m\u001b[0m\n\u001b[1;32m----> 1\u001b[1;33m \u001b[0mX\u001b[0m \u001b[1;33m=\u001b[0m \u001b[0mnp\u001b[0m\u001b[1;33m.\u001b[0m\u001b[0marray\u001b[0m\u001b[1;33m(\u001b[0m\u001b[0mtrain_img\u001b[0m\u001b[1;33m)\u001b[0m\u001b[1;33m\u001b[0m\u001b[1;33m\u001b[0m\u001b[0m\n\u001b[0m\u001b[0;32m      2\u001b[0m \u001b[0mX_test_data\u001b[0m \u001b[1;33m=\u001b[0m \u001b[0mnp\u001b[0m\u001b[1;33m.\u001b[0m\u001b[0marray\u001b[0m\u001b[1;33m(\u001b[0m\u001b[0mtest_img\u001b[0m\u001b[1;33m)\u001b[0m\u001b[1;33m\u001b[0m\u001b[1;33m\u001b[0m\u001b[0m\n\u001b[0;32m      3\u001b[0m \u001b[0mnp\u001b[0m\u001b[1;33m.\u001b[0m\u001b[0msave\u001b[0m\u001b[1;33m(\u001b[0m\u001b[1;34m'X.npy'\u001b[0m\u001b[1;33m,\u001b[0m \u001b[0mX\u001b[0m\u001b[1;33m)\u001b[0m\u001b[1;33m\u001b[0m\u001b[1;33m\u001b[0m\u001b[0m\n\u001b[0;32m      4\u001b[0m \u001b[0mnp\u001b[0m\u001b[1;33m.\u001b[0m\u001b[0msave\u001b[0m\u001b[1;33m(\u001b[0m\u001b[1;34m'X_test_data.npy'\u001b[0m\u001b[1;33m,\u001b[0m\u001b[0mX_test_data\u001b[0m\u001b[1;33m)\u001b[0m\u001b[1;33m\u001b[0m\u001b[1;33m\u001b[0m\u001b[0m\n",
      "\u001b[1;31mNameError\u001b[0m: name 'train_img' is not defined"
     ]
    }
   ],
   "source": [
    "X = np.array(train_img)\n",
    "X_test_data = np.array(test_img)\n",
    "np.save('X.npy', X)\n",
    "np.save('X_test_data.npy',X_test_data)"
   ]
  },
  {
   "cell_type": "code",
   "execution_count": 205,
   "id": "9c21ddb4",
   "metadata": {},
   "outputs": [],
   "source": [
    "x_train = np.load('X.npy',allow_pickle=True)\n",
    "x_test = np.load('X_test_data.npy', allow_pickle=True)"
   ]
  },
  {
   "cell_type": "code",
   "execution_count": 206,
   "id": "f1163989",
   "metadata": {},
   "outputs": [
    {
     "name": "stdout",
     "output_type": "stream",
     "text": [
      "(49000, 28, 28, 1)\n",
      "(21000, 28, 28, 1)\n"
     ]
    }
   ],
   "source": [
    "print(x_train.shape)\n",
    "print(x_test.shape)"
   ]
  },
  {
   "cell_type": "code",
   "execution_count": 207,
   "id": "02984a3b",
   "metadata": {},
   "outputs": [],
   "source": [
    "y_data = pd.read_csv('C:/Projects/Digit-recognization/train/train.csv')\n",
    "y_data = y_data.drop(['filename'],axis=1)\n",
    "#y = y_data.to_numpy()"
   ]
  },
  {
   "cell_type": "code",
   "execution_count": 208,
   "id": "1411d25b",
   "metadata": {},
   "outputs": [],
   "source": [
    "import tensorflow as tf\n",
    "datagen = tf.keras.preprocessing.image.ImageDataGenerator(rotation_range=10, width_shift_range=0.1, shear_range=10,\n",
    "                        height_shift_range=0.1, zoom_range=0.2)\n"
   ]
  },
  {
   "cell_type": "code",
   "execution_count": 209,
   "id": "064ac07e",
   "metadata": {},
   "outputs": [],
   "source": [
    "X_train, X_test, y_train, y_test = train_test_split(X, y_data , test_size=0.20)\n",
    "X_train, X_val, y_train, y_val = train_test_split(X_train, y_train , test_size =.33)"
   ]
  },
  {
   "cell_type": "code",
   "execution_count": 210,
   "id": "16cdcfff",
   "metadata": {},
   "outputs": [],
   "source": [
    "datagen.fit(X_train)"
   ]
  },
  {
   "cell_type": "code",
   "execution_count": 211,
   "id": "62d5d69b",
   "metadata": {},
   "outputs": [
    {
     "name": "stdout",
     "output_type": "stream",
     "text": [
      "Shape before one-hot encoding:  (26264, 1)\n",
      "Shape after one-hot encoding:  (26264, 1)\n"
     ]
    }
   ],
   "source": [
    "n_classes = 10\n",
    "print(\"Shape before one-hot encoding: \", y_train.shape)\n",
    "Y_train = np_utils.to_categorical(y_train, n_classes)\n",
    "Y_test = np_utils.to_categorical(y_test, n_classes)\n",
    "Y_val = np_utils.to_categorical(y_val, n_classes)\n",
    "print(\"Shape after one-hot encoding: \", y_train.shape)"
   ]
  },
  {
   "cell_type": "code",
   "execution_count": 212,
   "id": "6d80e350",
   "metadata": {},
   "outputs": [],
   "source": [
    "batch_size=32"
   ]
  },
  {
   "cell_type": "code",
   "execution_count": 216,
   "id": "1a05123c",
   "metadata": {},
   "outputs": [
    {
     "name": "stdout",
     "output_type": "stream",
     "text": [
      "Epoch 1/100\n",
      "820/820 [==============================] - 169s 204ms/step - loss: 1.1046 - accuracy: 0.6192 - val_loss: 0.1418 - val_accuracy: 0.9690\n",
      "Epoch 2/100\n",
      "820/820 [==============================] - 161s 196ms/step - loss: 0.2292 - accuracy: 0.9290 - val_loss: 0.0978 - val_accuracy: 0.9753\n",
      "Epoch 3/100\n",
      "820/820 [==============================] - 147s 180ms/step - loss: 0.1633 - accuracy: 0.9521 - val_loss: 0.0692 - val_accuracy: 0.9808\n",
      "Epoch 4/100\n",
      "820/820 [==============================] - 140s 171ms/step - loss: 0.1391 - accuracy: 0.9595 - val_loss: 0.0699 - val_accuracy: 0.9827\n",
      "Epoch 5/100\n",
      "820/820 [==============================] - 163s 199ms/step - loss: 0.1108 - accuracy: 0.9653 - val_loss: 0.0488 - val_accuracy: 0.9859\n",
      "Epoch 6/100\n",
      "820/820 [==============================] - 124s 151ms/step - loss: 0.1003 - accuracy: 0.9695 - val_loss: 0.0478 - val_accuracy: 0.9882\n",
      "Epoch 7/100\n",
      "820/820 [==============================] - 130s 158ms/step - loss: 0.0936 - accuracy: 0.9711 - val_loss: 0.0416 - val_accuracy: 0.9883\n",
      "Epoch 8/100\n",
      "820/820 [==============================] - 133s 162ms/step - loss: 0.0834 - accuracy: 0.9727 - val_loss: 0.0457 - val_accuracy: 0.9884\n",
      "Epoch 9/100\n",
      "820/820 [==============================] - 143s 174ms/step - loss: 0.0779 - accuracy: 0.9764 - val_loss: 0.0422 - val_accuracy: 0.9883\n",
      "Epoch 10/100\n",
      "820/820 [==============================] - 137s 167ms/step - loss: 0.0750 - accuracy: 0.9764 - val_loss: 0.0371 - val_accuracy: 0.9886\n",
      "Epoch 11/100\n",
      "820/820 [==============================] - 142s 173ms/step - loss: 0.0712 - accuracy: 0.9775 - val_loss: 0.0418 - val_accuracy: 0.9879\n",
      "Epoch 12/100\n",
      "820/820 [==============================] - 161s 196ms/step - loss: 0.0703 - accuracy: 0.9783 - val_loss: 0.0356 - val_accuracy: 0.9905\n",
      "Epoch 13/100\n",
      "820/820 [==============================] - 141s 171ms/step - loss: 0.0688 - accuracy: 0.9814 - val_loss: 0.0424 - val_accuracy: 0.9878\n",
      "Epoch 14/100\n",
      "820/820 [==============================] - 129s 158ms/step - loss: 0.0736 - accuracy: 0.9771 - val_loss: 0.0411 - val_accuracy: 0.9888\n",
      "Epoch 15/100\n",
      "820/820 [==============================] - 134s 163ms/step - loss: 0.0708 - accuracy: 0.9766 - val_loss: 0.0388 - val_accuracy: 0.9899\n",
      "Epoch 16/100\n",
      "820/820 [==============================] - 132s 161ms/step - loss: 0.0606 - accuracy: 0.9820 - val_loss: 0.0356 - val_accuracy: 0.9893\n",
      "Epoch 17/100\n",
      "820/820 [==============================] - 133s 162ms/step - loss: 0.0654 - accuracy: 0.9797 - val_loss: 0.0312 - val_accuracy: 0.9903\n",
      "Epoch 18/100\n",
      "820/820 [==============================] - 134s 163ms/step - loss: 0.0579 - accuracy: 0.9827 - val_loss: 0.0394 - val_accuracy: 0.9899\n",
      "Epoch 19/100\n",
      "820/820 [==============================] - 137s 166ms/step - loss: 0.0636 - accuracy: 0.9795 - val_loss: 0.0360 - val_accuracy: 0.9898\n",
      "Epoch 20/100\n",
      "820/820 [==============================] - 591s 720ms/step - loss: 0.0614 - accuracy: 0.9810 - val_loss: 0.0301 - val_accuracy: 0.9914\n",
      "Epoch 21/100\n",
      "820/820 [==============================] - 125s 152ms/step - loss: 0.0537 - accuracy: 0.9847 - val_loss: 0.0328 - val_accuracy: 0.9906\n",
      "Epoch 22/100\n",
      "820/820 [==============================] - 131s 159ms/step - loss: 0.0594 - accuracy: 0.9808 - val_loss: 0.0292 - val_accuracy: 0.9910\n",
      "Epoch 23/100\n",
      "820/820 [==============================] - 132s 161ms/step - loss: 0.0547 - accuracy: 0.9836 - val_loss: 0.0274 - val_accuracy: 0.9915\n",
      "Epoch 24/100\n",
      "820/820 [==============================] - 129s 157ms/step - loss: 0.0584 - accuracy: 0.9822 - val_loss: 0.0342 - val_accuracy: 0.9903\n",
      "Epoch 25/100\n",
      "820/820 [==============================] - 472s 576ms/step - loss: 0.0509 - accuracy: 0.9839 - val_loss: 0.0324 - val_accuracy: 0.9898\n",
      "Epoch 26/100\n",
      "820/820 [==============================] - 450s 548ms/step - loss: 0.0590 - accuracy: 0.9832 - val_loss: 0.0331 - val_accuracy: 0.9911\n",
      "Epoch 27/100\n",
      "820/820 [==============================] - 124s 152ms/step - loss: 0.0522 - accuracy: 0.9831 - val_loss: 0.0305 - val_accuracy: 0.9910\n",
      "Epoch 28/100\n",
      "820/820 [==============================] - 120s 146ms/step - loss: 0.0517 - accuracy: 0.9835 - val_loss: 0.0289 - val_accuracy: 0.9914\n",
      "Epoch 29/100\n",
      "820/820 [==============================] - 128s 156ms/step - loss: 0.0576 - accuracy: 0.9827 - val_loss: 0.0326 - val_accuracy: 0.9909\n",
      "Epoch 30/100\n",
      "820/820 [==============================] - 121s 147ms/step - loss: 0.0514 - accuracy: 0.9841 - val_loss: 0.0298 - val_accuracy: 0.9915\n",
      "Epoch 31/100\n",
      "820/820 [==============================] - 125s 152ms/step - loss: 0.0505 - accuracy: 0.9850 - val_loss: 0.0376 - val_accuracy: 0.9883\n",
      "Epoch 32/100\n",
      "820/820 [==============================] - 256s 312ms/step - loss: 0.0516 - accuracy: 0.9848 - val_loss: 0.0305 - val_accuracy: 0.9913\n",
      "Epoch 33/100\n",
      "820/820 [==============================] - 571s 696ms/step - loss: 0.0436 - accuracy: 0.9866 - val_loss: 0.0344 - val_accuracy: 0.9907\n"
     ]
    }
   ],
   "source": [
    "model = Sequential()\n",
    "model.add(Conv2D(32, kernel_size=(3,3), activation='relu',input_shape=X_train.shape[1:]))\n",
    "model.add(Dropout(0.50))\n",
    "model.add(Conv2D(64, (3, 3), activation='relu'))\n",
    "model.add(Dropout(0.50))\n",
    "model.add(Conv2D(128, (3, 3), activation='relu'))\n",
    "model.add(Dropout(0.50))\n",
    "model.add(MaxPooling2D(pool_size=(2, 2)))\n",
    "model.add(Flatten())\n",
    "model.add(Dense(128, activation='relu'))\n",
    "model.add(Dense(n_classes, activation='softmax'))\n",
    "\n",
    "model.compile(loss='categorical_crossentropy', metrics=['accuracy'],optimizer=optimizers.Adam(lr=0.001))\n",
    "es = EarlyStopping(monitor='val_loss', patience=10)\n",
    "rlrop = ReduceLROnPlateau(monitor='val_loss', factor=0.1, patience=20)\n",
    "history = model.fit(datagen.flow(X_train, Y_train, batch_size=32),validation_data=(X_val, Y_val), steps_per_epoch=len(X_train) / 32, epochs=100 ,callbacks=[es,rlrop])"
   ]
  },
  {
   "cell_type": "code",
   "execution_count": 217,
   "id": "b86f3bdd",
   "metadata": {},
   "outputs": [],
   "source": [
    "def model_loss_plot(history):\n",
    "    plt.plot(history.history['loss'])\n",
    "    plt.plot(history.history['val_loss'])\n",
    "    plt.title('model loss')\n",
    "    plt.ylabel('loss')\n",
    "    plt.xlabel('epoch')\n",
    "    plt.legend(['train', 'test'], loc='upper left')\n",
    "    plt.show()"
   ]
  },
  {
   "cell_type": "code",
   "execution_count": 218,
   "id": "96ee983e",
   "metadata": {},
   "outputs": [
    {
     "data": {
      "image/png": "[encoded data removed]",
      "text/plain": [
       "<Figure size 432x288 with 1 Axes>"
      ]
     },
     "metadata": {
      "needs_background": "light"
     },
     "output_type": "display_data"
    }
   ],
   "source": [
    "model_loss_plot(history)"
   ]
  },
  {
   "cell_type": "code",
   "execution_count": 219,
   "id": "431c72a4",
   "metadata": {},
   "outputs": [],
   "source": [
    "def model_accuracy_plot(history):\n",
    "    plt.plot(history.history['accuracy'])\n",
    "    plt.plot(history.history['val_accuracy'])\n",
    "    plt.title('model accuracy')\n",
    "    plt.ylabel('accuracy')\n",
    "    plt.xlabel('epoch')\n",
    "    plt.legend(['train', 'test'], loc='upper left')\n",
    "    plt.show()"
   ]
  },
  {
   "cell_type": "code",
   "execution_count": 220,
   "id": "35d92e7d",
   "metadata": {},
   "outputs": [
    {
     "data": {
      "image/png": "[encoded data removed]",
      "text/plain": [
       "<Figure size 432x288 with 1 Axes>"
      ]
     },
     "metadata": {
      "needs_background": "light"
     },
     "output_type": "display_data"
    }
   ],
   "source": [
    "model_accuracy_plot(history)"
   ]
  },
  {
   "cell_type": "code",
   "execution_count": 221,
   "id": "b57d0d5f",
   "metadata": {},
   "outputs": [],
   "source": [
    "def model_evaluate(model,X_train,y_train,X_test,y_test):\n",
    "    train_loss ,train_acc = model.evaluate(X_train, y_train, verbose=0)\n",
    "    test_loss, test_acc = model.evaluate(X_test, y_test, verbose=0)\n",
    "    print('Train: %.3f, Test: %.3f' % (train_acc, test_acc))"
   ]
  },
  {
   "cell_type": "code",
   "execution_count": 222,
   "id": "1f4d0f65",
   "metadata": {},
   "outputs": [
    {
     "name": "stdout",
     "output_type": "stream",
     "text": [
      "Train: 0.995, Test: 0.992\n"
     ]
    }
   ],
   "source": [
    "model_evaluate(model,X_train,Y_train,X_test,Y_test)"
   ]
  },
  {
   "cell_type": "code",
   "execution_count": 223,
   "id": "f3a40f83",
   "metadata": {},
   "outputs": [],
   "source": [
    "yhat = model.predict_classes(X_test_data)"
   ]
  },
  {
   "cell_type": "code",
   "execution_count": 224,
   "id": "cf8580f9",
   "metadata": {},
   "outputs": [],
   "source": [
    "predict = pd.DataFrame(data=yhat ,columns=[\"label\"])"
   ]
  },
  {
   "cell_type": "code",
   "execution_count": 225,
   "id": "9d8205c0",
   "metadata": {},
   "outputs": [
    {
     "data": {
      "text/plain": [
       "(21000, 1)"
      ]
     },
     "execution_count": 225,
     "metadata": {},
     "output_type": "execute_result"
    }
   ],
   "source": [
    "predict.shape"
   ]
  },
  {
   "cell_type": "code",
   "execution_count": 226,
   "id": "65b357ef",
   "metadata": {},
   "outputs": [],
   "source": [
    "sub = test['filename']\n",
    "DT = pd.merge(sub , predict, on=None, left_index= True,\n",
    "    right_index=True)"
   ]
  },
  {
   "cell_type": "code",
   "execution_count": 227,
   "id": "ac130a6e",
   "metadata": {},
   "outputs": [],
   "source": [
    "DT.to_csv('submission.csv',index = False)"
   ]
  }
 ],
 "metadata": {
  "kernelspec": {
   "display_name": "Python 3",
   "language": "python",
   "name": "python3"
  },
  "language_info": {
   "codemirror_mode": {
    "name": "ipython",
    "version": 3
   },
   "file_extension": ".py",
   "mimetype": "text/x-python",
   "name": "python",
   "nbconvert_exporter": "python",
   "pygments_lexer": "ipython3",
   "version": "3.8.8"
  }
 },
 "nbformat": 4,
 "nbformat_minor": 5
}
